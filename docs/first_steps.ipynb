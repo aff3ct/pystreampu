{
 "cells": [
  {
   "cell_type": "markdown",
   "metadata": {},
   "source": [
    "# First steps\n",
    "This section presents the first steps for playing with [StreamPU](https://aff3ct.github.io/streampu) in Python.\n",
    "It covers the following key concepts of [StreamPU](https://aff3ct.github.io/streampu):\n",
    "- module\n",
    "- task\n",
    "- socket\n",
    "\n",
    "At the end of this section, you should be able to :\n",
    "- Create a module\n",
    "- Get information about the task of a module\n",
    "- Bind two sockets\n",
    "- Execute a task of a module\n",
    "- Read the values of a socket\n",
    "- Activate the debug mode of a task"
   ]
  },
  {
   "cell_type": "markdown",
   "metadata": {},
   "source": [
    "## Import StreamPU\n",
    "\n",
    "As every Python package `StreamPU`is imported using the `import` interface."
   ]
  },
  {
   "cell_type": "code",
   "execution_count": 1,
   "metadata": {},
   "outputs": [],
   "source": [
    "import streampu as spu"
   ]
  },
  {
   "cell_type": "markdown",
   "metadata": {},
   "source": [
    "## Build a module\n",
    "Basically, a `module` is a device that can process data.\n",
    "A data processing is called a `task` in the StreamPU DSEL language.\n",
    "Modules can store several tasks as well as shared data for the different tasks or for different executions of the same tasks.\n",
    "Tasks exchange data through `sockets`.\n",
    "\n",
    "For example suppose that we want to randomly generate `8` bits from a Bernoulli distribution."
   ]
  },
  {
   "cell_type": "code",
   "execution_count": 2,
   "metadata": {},
   "outputs": [],
   "source": [
    "src = spu.source_random(8, dtype = spu.int64)"
   ]
  },
  {
   "cell_type": "markdown",
   "metadata": {},
   "source": [
    "If you want to have some information about the tasks of `src` you can use `help`or `spu.help`."
   ]
  },
  {
   "cell_type": "code",
   "execution_count": 3,
   "metadata": {},
   "outputs": [
    {
     "name": "stdout",
     "output_type": "stream",
     "text": [
      "# module:\n",
      "# |- name: Source_random\n",
      "# |- short name: Source\n",
      "# |- n_frames: 1\n",
      "# |- tasks:\n",
      "# |  |- name: generate\n",
      "# |  |  |- sockets out:\n",
      "# |  |  |  |- out_data: { n_elts = 8, datatype = int64 }\n",
      "# |  |  |  |- out_count: { n_elts = 1, datatype = uint32 }\n",
      "# |  |  |  |- status: { n_elts = 1, datatype = int32 }\n",
      "\n"
     ]
    }
   ],
   "source": [
    "spu.help(src)"
   ]
  },
  {
   "cell_type": "markdown",
   "metadata": {},
   "source": [
    "In this log, we see that `src` has one `task` named `generate` that has 3 outputs: \n",
    "- `out_data`: 8 elements of type `int64`\n",
    "- `out_count`: 1 element of type `uint32`\n",
    "- `status`: 1 element of type `int32`\n",
    "\n",
    "We will access the task `tsk`of a module `mdl` using the syntax `mdl['tsk']`.\n",
    "Similarly, the socket `sck`of the task `tsk` of a module `mdl` can be accessed using `mdl['tsk::sck']`"
   ]
  },
  {
   "cell_type": "markdown",
   "metadata": {},
   "source": [
    "## Execute a Task\n",
    "\n",
    "To fill these sockets, let us execute the task `generate` of `src`."
   ]
  },
  {
   "cell_type": "code",
   "execution_count": 4,
   "metadata": {},
   "outputs": [],
   "source": [
    "src['generate'].exec()"
   ]
  },
  {
   "cell_type": "markdown",
   "metadata": {},
   "source": [
    "The generated bits, contained in the socket `out_data` can be read. "
   ]
  },
  {
   "cell_type": "code",
   "execution_count": 5,
   "metadata": {},
   "outputs": [
    {
     "name": "stdout",
     "output_type": "stream",
     "text": [
      "[[0 1 1 0 1 1 1 1]]\n"
     ]
    }
   ],
   "source": [
    "print(src['generate::out_data'])"
   ]
  },
  {
   "cell_type": "markdown",
   "metadata": {},
   "source": [
    "## Second module building\n",
    "\n",
    "We now want to incerement the bits of `out_data`. To do so, we start by building an `incrementer` (which is a also a `module`)."
   ]
  },
  {
   "cell_type": "code",
   "execution_count": 6,
   "metadata": {},
   "outputs": [],
   "source": [
    "inc = spu.incrementer(8, dtype=spu.int64)"
   ]
  },
  {
   "cell_type": "markdown",
   "metadata": {},
   "source": [
    "When asking for more details about `inc` we can see that it has two tasks named `increment` and `incrementf`.\n",
    "We will use `increment`.\n",
    "The task `increment` has one input socket called `in`."
   ]
  },
  {
   "cell_type": "code",
   "execution_count": 7,
   "metadata": {},
   "outputs": [
    {
     "name": "stdout",
     "output_type": "stream",
     "text": [
      "# module:\n",
      "# |- name: Incrementer\n",
      "# |- short name: Incrementer\n",
      "# |- n_frames: 1\n",
      "# |- tasks:\n",
      "# |  |- name: increment\n",
      "# |  |  |- sockets in:\n",
      "# |  |  |  |- in: { n_elts = 8, datatype = int64 }\n",
      "# |  |  |- sockets out:\n",
      "# |  |  |  |- out: { n_elts = 8, datatype = int64 }\n",
      "# |  |  |  |- status: { n_elts = 1, datatype = int32 }\n",
      "# |  |- name: incrementf\n",
      "# |  |  |- sockets in:\n",
      "# |  |  |  |- fwd: { n_elts = 8, datatype = int64 }\n",
      "# |  |  |- sockets out:\n",
      "# |  |  |  |- status: { n_elts = 1, datatype = int32 }\n",
      "\n"
     ]
    }
   ],
   "source": [
    "spu.help(inc)"
   ]
  },
  {
   "cell_type": "markdown",
   "metadata": {},
   "source": [
    "## Module binding \n",
    "\n",
    "To link the source `src` and the incrementer `inc`, the output socket `out_data` of the task `generate` of the module `src` should be \"bound\" to the input socket `in` of the task `increment` of the module `inc`."
   ]
  },
  {
   "cell_type": "code",
   "execution_count": 8,
   "metadata": {},
   "outputs": [],
   "source": [
    "inc['increment::in'] = src['generate::out_data']"
   ]
  },
  {
   "cell_type": "markdown",
   "metadata": {},
   "source": [
    "This line is schematically equivalent to the following figure.\n",
    "\n",
    "<img src=\"/assets/src_inc_binding.svg\" width = \"250\"/>\n"
   ]
  },
  {
   "cell_type": "markdown",
   "metadata": {},
   "source": [
    "## Tasks execution\n",
    "\n",
    "Now we can execute the tasks of each module."
   ]
  },
  {
   "cell_type": "code",
   "execution_count": 9,
   "metadata": {},
   "outputs": [
    {
     "name": "stdout",
     "output_type": "stream",
     "text": [
      "Output of source: [[1 1 1 0 0 1 0 0]]\n",
      "Output of incrementer: [[2 2 2 1 1 2 1 1]]\n"
     ]
    }
   ],
   "source": [
    "src['generate'].exec()\n",
    "inc['increment'].exec()\n",
    "\n",
    "print(\"Output of source:\", src['generate::out_data'])\n",
    "print(\"Output of incrementer:\", inc['increment::out'])"
   ]
  },
  {
   "cell_type": "markdown",
   "metadata": {},
   "source": [
    "## Debug mode activation\n",
    "\n",
    "You can see that the data is automatically transfered from the output of `generate` to the input of `increment`. \n",
    "The data printing can also be handled automatically by setting the `debug` property of the tasks to `true`."
   ]
  },
  {
   "cell_type": "code",
   "execution_count": 10,
   "metadata": {},
   "outputs": [
    {
     "name": "stdout",
     "output_type": "stream",
     "text": [
      "# \u001b[1m\u001b[32mSource_random\u001b[0m::\u001b[1m\u001b[35mgenerate\u001b[0m(\u001b[1m\u001b[34mint64\u001b[0m out_data[8], \u001b[1m\u001b[34muint32\u001b[0m out_count[1])\n",
      "# {OUT} out_data  = [    0,     0,     0,     1,     0,     1,     1,     0]\n",
      "# {OUT} out_count = [    8]\n",
      "# Returned status: [0 'SUCCESS']\n"
     ]
    },
    {
     "name": "stdout",
     "output_type": "stream",
     "text": [
      "#\n",
      "# \u001b[1m\u001b[32mIncrementer\u001b[0m::\u001b[1m\u001b[35mincrement\u001b[0m(\u001b[1m\u001b[34mconst int64\u001b[0m in[8], \u001b[1m\u001b[34mint64\u001b[0m out[8])\n",
      "# {IN}  in  = [    0,     0,     0,     1,     0,     1,     1,     0]\n",
      "# {OUT} out = [    1,     1,     1,     2,     1,     2,     2,     1]\n",
      "# Returned status: [0 'SUCCESS']\n",
      "#\n"
     ]
    }
   ],
   "source": [
    "src['generate'].debug = True\n",
    "inc['increment'].debug = True\n",
    "src['generate'].exec()\n",
    "inc['increment'].exec()"
   ]
  }
 ],
 "metadata": {
  "kernelspec": {
   "display_name": "Python 3",
   "language": "python",
   "name": "python3"
  },
  "language_info": {
   "codemirror_mode": {
    "name": "ipython",
    "version": 3
   },
   "file_extension": ".py",
   "mimetype": "text/x-python",
   "name": "python",
   "nbconvert_exporter": "python",
   "pygments_lexer": "ipython3",
   "version": "3.11.6"
  }
 },
 "nbformat": 4,
 "nbformat_minor": 2
}
