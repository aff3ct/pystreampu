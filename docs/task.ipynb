{
 "cells": [
  {
   "cell_type": "markdown",
   "metadata": {},
   "source": [
    "# Task\n",
    "\n",
    "In this section we present some functionalities of `task` objects.\n"
   ]
  },
  {
   "cell_type": "code",
   "execution_count": null,
   "metadata": {},
   "outputs": [],
   "source": [
    "import streampu as spu\n",
    "src = spu.source_random(8, dtype = spu.int64)\n",
    "generate = src[\"generate\"]"
   ]
  },
  {
   "cell_type": "markdown",
   "metadata": {},
   "source": [
    "If you want to have some information about the tasks of `src` you can use `help`or `spu.help`."
   ]
  },
  {
   "cell_type": "code",
   "execution_count": 1,
   "metadata": {},
   "outputs": [
    {
     "ename": "NameError",
     "evalue": "name 'generate' is not defined",
     "output_type": "error",
     "traceback": [
      "\u001b[0;31m---------------------------------------------------------------------------\u001b[0m",
      "\u001b[0;31mNameError\u001b[0m                                 Traceback (most recent call last)",
      "Cell \u001b[0;32mIn[1], line 1\u001b[0m\n\u001b[0;32m----> 1\u001b[0m \u001b[43mgenerate\u001b[49m\u001b[38;5;241m.\u001b[39mmodule\n\u001b[1;32m      3\u001b[0m generate\u001b[38;5;241m.\u001b[39minputs\n\u001b[1;32m      4\u001b[0m generate\u001b[38;5;241m.\u001b[39moutputs\n",
      "\u001b[0;31mNameError\u001b[0m: name 'generate' is not defined"
     ]
    }
   ],
   "source": [
    "generate.module\n",
    "\n",
    "generate.inputs\n",
    "generate.outputs\n",
    "generate.forwards\n",
    "\n",
    "generate.stats\n",
    "generate.avg_duration, generate.min_duration, generate.max_duration\n",
    "generate.n_calls\n",
    "generate.reset\n",
    "\n",
    "generate.debug\n",
    "\n",
    "generate.exec\n",
    "\n",
    "\n",
    "\n",
    "generate.out_data\n",
    "__call__"
   ]
  },
  {
   "cell_type": "code",
   "execution_count": null,
   "metadata": {},
   "outputs": [],
   "source": []
  }
 ],
 "metadata": {
  "kernelspec": {
   "display_name": "Python 3",
   "language": "python",
   "name": "python3"
  },
  "language_info": {
   "codemirror_mode": {
    "name": "ipython",
    "version": 3
   },
   "file_extension": ".py",
   "mimetype": "text/x-python",
   "name": "python",
   "nbconvert_exporter": "python",
   "pygments_lexer": "ipython3",
   "version": "3.11.6"
  }
 },
 "nbformat": 4,
 "nbformat_minor": 2
}
